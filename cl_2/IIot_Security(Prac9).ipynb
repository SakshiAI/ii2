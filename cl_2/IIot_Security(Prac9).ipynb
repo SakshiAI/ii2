{
 "cells": [
  {
   "cell_type": "code",
   "execution_count": 1,
   "metadata": {
    "id": "YGNStyD5TNgM"
   },
   "outputs": [],
   "source": [
    "\"\"\"8. Write a program for implementing security measures in an IIoT system\"\"\""
   ]
  },
  {
   "cell_type": "code",
   "execution_count": null,
   "metadata": {},
   "outputs": [],
   "source": [
    "from cryptography.fernet import Fernet  # For encryption\n",
    "import numpy as np"
   ]
  },
  {
   "cell_type": "code",
   "execution_count": 2,
   "metadata": {
    "id": "JNMgCoAlTQJE"
   },
   "outputs": [],
   "source": [
    "key = Fernet.generate_key()\n",
    "cipher = Fernet(key)"
   ]
  },
  {
   "cell_type": "code",
   "execution_count": 3,
   "metadata": {
    "colab": {
     "base_uri": "https://localhost:8080/"
    },
    "id": "3eHjKstGTSAo",
    "outputId": "c96d6339-37a0-46fb-b9ef-0e0a15eb9d15"
   },
   "outputs": [
    {
     "name": "stdout",
     "output_type": "stream",
     "text": [
      "Original Temperature :  37\n"
     ]
    }
   ],
   "source": [
    "temp = np.random.randint(30,60)\n",
    "print(\"Original Temperature : \", temp)"
   ]
  },
  {
   "cell_type": "code",
   "execution_count": 4,
   "metadata": {
    "colab": {
     "base_uri": "https://localhost:8080/"
    },
    "id": "76VgY_rxTTaq",
    "outputId": "44f96e12-e697-49f5-ef72-419e0ec38c7d"
   },
   "outputs": [
    {
     "name": "stdout",
     "output_type": "stream",
     "text": [
      "Encrypted Temperature:  b'gAAAAABnK9p4ycav9Z3EqXr7uSOV1Ifi4rAuf1mO42q87w3P5W_2vvs9pMZI8ywk6zimuD8Im0a37pCrwYcrr55vC00cI82PXw=='\n"
     ]
    }
   ],
   "source": [
    "enc = cipher.encrypt(str(temp).encode())\n",
    "print(\"Encrypted Temperature: \",enc)"
   ]
  },
  {
   "cell_type": "code",
   "execution_count": 5,
   "metadata": {
    "colab": {
     "base_uri": "https://localhost:8080/"
    },
    "id": "oqVs2jHyTWWm",
    "outputId": "7c8eeb4c-cc22-4706-db39-acbe97b92874"
   },
   "outputs": [
    {
     "name": "stdout",
     "output_type": "stream",
     "text": [
      "Decrypted Temperature:  37\n"
     ]
    }
   ],
   "source": [
    "dec = cipher.decrypt(enc).decode()\n",
    "print(\"Decrypted Temperature: \",dec)"
   ]
  },
  {
   "cell_type": "code",
   "execution_count": 6,
   "metadata": {
    "colab": {
     "base_uri": "https://localhost:8080/"
    },
    "id": "DStfDaO9TYiv",
    "outputId": "6a30b13a-4e32-4adc-8818-53aa3e38f555"
   },
   "outputs": [
    {
     "name": "stdout",
     "output_type": "stream",
     "text": [
      "Data Integrity is verified\n"
     ]
    }
   ],
   "source": [
    "original_hash = hash(str(temp))\n",
    "decrypted_hash = hash(dec)\n",
    "\n",
    "if original_hash == decrypted_hash:\n",
    "    print(\"Data Integrity is verified\")\n",
    "else:\n",
    "    print(\"Data Integrity is not verified\")"
   ]
  },
  {
   "cell_type": "code",
   "execution_count": null,
   "metadata": {
    "id": "NnkDc0BsTbWj"
   },
   "outputs": [],
   "source": []
  }
 ],
 "metadata": {
  "colab": {
   "provenance": []
  },
  "kernelspec": {
   "display_name": "Python 3 (ipykernel)",
   "language": "python",
   "name": "python3"
  },
  "language_info": {
   "codemirror_mode": {
    "name": "ipython",
    "version": 3
   },
   "file_extension": ".py",
   "mimetype": "text/x-python",
   "name": "python",
   "nbconvert_exporter": "python",
   "pygments_lexer": "ipython3",
   "version": "3.12.3"
  }
 },
 "nbformat": 4,
 "nbformat_minor": 4
}
