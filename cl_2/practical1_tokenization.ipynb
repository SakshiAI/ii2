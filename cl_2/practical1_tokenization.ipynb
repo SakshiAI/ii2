{
 "cells": [
  {
   "cell_type": "code",
   "execution_count": 27,
   "id": "dc665db0-2b3f-4cbf-9703-ded3bca20de2",
   "metadata": {},
   "outputs": [
    {
     "data": {
      "text/plain": [
       "'1. Write a program for pre-processing of a text document such as stop word removal, stemming'"
      ]
     },
     "execution_count": 27,
     "metadata": {},
     "output_type": "execute_result"
    }
   ],
   "source": [
    "\"\"\"1. Write a program for pre-processing of a text document such as stop word removal, stemming\"\"\""
   ]
  },
  {
   "cell_type": "code",
   "execution_count": 26,
   "id": "72806eec-0ea3-4d47-92ab-e8cbfffed740",
   "metadata": {},
   "outputs": [
    {
     "name": "stdout",
     "output_type": "stream",
     "text": [
      "Requirement already satisfied: nltk in c:\\users\\saksh\\appdata\\local\\programs\\python\\python312\\lib\\site-packages (3.8.1)Note: you may need to restart the kernel to use updated packages.\n",
      "\n",
      "Requirement already satisfied: click in c:\\users\\saksh\\appdata\\local\\programs\\python\\python312\\lib\\site-packages (from nltk) (8.1.7)\n",
      "Requirement already satisfied: joblib in c:\\users\\saksh\\appdata\\local\\programs\\python\\python312\\lib\\site-packages (from nltk) (1.4.0)\n",
      "Requirement already satisfied: regex>=2021.8.3 in c:\\users\\saksh\\appdata\\local\\programs\\python\\python312\\lib\\site-packages (from nltk) (2024.4.28)\n",
      "Requirement already satisfied: tqdm in c:\\users\\saksh\\appdata\\local\\programs\\python\\python312\\lib\\site-packages (from nltk) (4.66.2)\n",
      "Requirement already satisfied: colorama in c:\\users\\saksh\\appdata\\local\\programs\\python\\python312\\lib\\site-packages (from click->nltk) (0.4.6)\n"
     ]
    }
   ],
   "source": [
    "pip install nltk"
   ]
  },
  {
   "cell_type": "code",
   "execution_count": 5,
   "id": "00eabf23-4a09-4aff-99e5-9b66b02e5b74",
   "metadata": {},
   "outputs": [],
   "source": [
    "import nltk \n",
    "from nltk.corpus import stopwords\n",
    "from nltk.stem import PorterStemmer\n",
    "from nltk.stem import WordNetLemmatizer\n",
    "from nltk.tokenize import word_tokenize"
   ]
  },
  {
   "cell_type": "code",
   "execution_count": 6,
   "id": "84190324-a5b4-444c-831c-f25f65119dda",
   "metadata": {},
   "outputs": [
    {
     "name": "stderr",
     "output_type": "stream",
     "text": [
      "[nltk_data] Downloading package punkt to\n",
      "[nltk_data]     C:\\Users\\saksh\\AppData\\Roaming\\nltk_data...\n",
      "[nltk_data]   Package punkt is already up-to-date!\n",
      "[nltk_data] Downloading package stopwords to\n",
      "[nltk_data]     C:\\Users\\saksh\\AppData\\Roaming\\nltk_data...\n",
      "[nltk_data]   Package stopwords is already up-to-date!\n",
      "[nltk_data] Downloading package wordnet to\n",
      "[nltk_data]     C:\\Users\\saksh\\AppData\\Roaming\\nltk_data...\n",
      "[nltk_data]   Package wordnet is already up-to-date!\n"
     ]
    },
    {
     "data": {
      "text/plain": [
       "True"
      ]
     },
     "execution_count": 6,
     "metadata": {},
     "output_type": "execute_result"
    }
   ],
   "source": [
    "# Download required NLTK data (you only need to do this once)\n",
    "nltk.download('punkt')\n",
    "nltk.download('stopwords')\n",
    "nltk.download('wordnet')"
   ]
  },
  {
   "cell_type": "code",
   "execution_count": 28,
   "id": "82740ca8-ac60-4ca2-bc82-eb253d7423ff",
   "metadata": {},
   "outputs": [],
   "source": [
    "# Example text\n",
    "text = \"This is a simple example for text preprocessing, with stop word removal and stemming!\"\n",
    "text1= \"The quick brown fox jumped over the lazy dog and The lazy dog slept in the sun\"\n",
    "text2 = 'The quick brown fox jumps over the lazy dog While the dog sleeps the fox quickly runs to the nearby forest'"
   ]
  },
  {
   "cell_type": "code",
   "execution_count": 22,
   "id": "4a121eed-2f8b-4ece-9540-0569c7ec16b3",
   "metadata": {},
   "outputs": [
    {
     "name": "stdout",
     "output_type": "stream",
     "text": [
      "After tokenization: ['this', 'is', 'a', 'simple', 'example', 'for', 'text', 'preprocessing', ',', 'with', 'stop', 'word', 'removal', 'and', 'stemming', '!']\n"
     ]
    }
   ],
   "source": [
    "# Tokenize and convert to lowercase\n",
    "words = word_tokenize(text.lower())\n",
    "print(\"After tokenization:\", words)  # Print tokens after tokenization"
   ]
  },
  {
   "cell_type": "code",
   "execution_count": 23,
   "id": "16c7a680-1bf6-4458-8d3d-5ce653f01840",
   "metadata": {},
   "outputs": [
    {
     "name": "stdout",
     "output_type": "stream",
     "text": [
      "After removing stop words: ['simple', 'example', 'text', 'preprocessing', 'stop', 'word', 'removal', 'stemming']\n"
     ]
    }
   ],
   "source": [
    "# Remove stop words\n",
    "stop_words = set(stopwords.words('english'))\n",
    "words = [word for word in words if word.isalnum() and word not in stop_words]\n",
    "print(\"After removing stop words:\", words)"
   ]
  },
  {
   "cell_type": "code",
   "execution_count": 24,
   "id": "64127e7a-1e26-48c5-bff9-c62e39fd3576",
   "metadata": {},
   "outputs": [
    {
     "name": "stdout",
     "output_type": "stream",
     "text": [
      "Stemmed Text:     ['simpl', 'exampl', 'text', 'preprocess', 'stop', 'word', 'remov', 'stem']\n"
     ]
    }
   ],
   "source": [
    " # Stemming\n",
    "ps = PorterStemmer()\n",
    "stemmed_words = [ps.stem(word) for word in words]\n",
    "# Display results\n",
    "print(\"Stemmed Text:    \", stemmed)"
   ]
  },
  {
   "cell_type": "code",
   "execution_count": 25,
   "id": "e2bdda94-6c4c-4fe7-be8a-4a8b2bdddd60",
   "metadata": {},
   "outputs": [
    {
     "name": "stdout",
     "output_type": "stream",
     "text": [
      "Lemmatized Text:  ['simple', 'example', 'text', 'preprocessing', 'stop', 'word', 'removal', 'stemming']\n"
     ]
    }
   ],
   "source": [
    "  # Lemmatization\n",
    "lemmatizer = WordNetLemmatizer()\n",
    "lemmatized_words = [lemmatizer.lemmatize(word) for word in words]\n",
    "print(\"Lemmatized Text: \", lemmatized)"
   ]
  },
  {
   "cell_type": "code",
   "execution_count": null,
   "id": "88a6c5be-c510-44b7-9e68-d42b337a28f2",
   "metadata": {},
   "outputs": [],
   "source": []
  },
  {
   "cell_type": "code",
   "execution_count": null,
   "id": "2a41dadf-66f8-4119-8313-220297872f78",
   "metadata": {},
   "outputs": [],
   "source": []
  },
  {
   "cell_type": "code",
   "execution_count": null,
   "id": "f128d373-2886-463d-961b-b5c72c697787",
   "metadata": {},
   "outputs": [],
   "source": []
  },
  {
   "cell_type": "code",
   "execution_count": null,
   "id": "10b7d92c-821f-41b0-a673-d7a8554baf5d",
   "metadata": {},
   "outputs": [],
   "source": []
  }
 ],
 "metadata": {
  "kernelspec": {
   "display_name": "Python 3 (ipykernel)",
   "language": "python",
   "name": "python3"
  },
  "language_info": {
   "codemirror_mode": {
    "name": "ipython",
    "version": 3
   },
   "file_extension": ".py",
   "mimetype": "text/x-python",
   "name": "python",
   "nbconvert_exporter": "python",
   "pygments_lexer": "ipython3",
   "version": "3.12.3"
  }
 },
 "nbformat": 4,
 "nbformat_minor": 5
}
