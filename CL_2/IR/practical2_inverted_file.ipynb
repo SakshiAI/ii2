{
 "cells": [
  {
   "cell_type": "code",
   "execution_count": 1,
   "id": "832449c7-8cd0-4661-ab89-a76218c987f7",
   "metadata": {},
   "outputs": [
    {
     "data": {
      "text/plain": [
       "'2. Implement a program for retrieval of documents using inverted files.'"
      ]
     },
     "execution_count": 1,
     "metadata": {},
     "output_type": "execute_result"
    }
   ],
   "source": [
    "\"\"\"2. Implement a program for retrieval of documents using inverted files.\"\"\""
   ]
  },
  {
   "cell_type": "code",
   "execution_count": 2,
   "id": "2aee8130-3fac-4179-a85b-8c986d874fbf",
   "metadata": {},
   "outputs": [
    {
     "name": "stderr",
     "output_type": "stream",
     "text": [
      "[nltk_data] Downloading package punkt to\n",
      "[nltk_data]     C:\\Users\\saksh\\AppData\\Roaming\\nltk_data...\n",
      "[nltk_data]   Package punkt is already up-to-date!\n"
     ]
    },
    {
     "data": {
      "text/plain": [
       "True"
      ]
     },
     "execution_count": 2,
     "metadata": {},
     "output_type": "execute_result"
    }
   ],
   "source": [
    "import nltk \n",
    "from nltk.tokenize import word_tokenize\n",
    "nltk.download('punkt')"
   ]
  },
  {
   "cell_type": "code",
   "execution_count": 18,
   "id": "890b3cca-fa2e-442d-8b8b-70b24637c10b",
   "metadata": {},
   "outputs": [],
   "source": [
    "# Define the documents\n",
    "document1 = \"The quick brown fox jumped over the lazy dog .\"\n",
    "document2 = \"The lazy dog slept in the sun .\"\n"
   ]
  },
  {
   "cell_type": "code",
   "execution_count": 19,
   "id": "ae793411-914b-4453-a5de-1960980a5cc5",
   "metadata": {},
   "outputs": [
    {
     "name": "stdout",
     "output_type": "stream",
     "text": [
      "document1: ['the', 'quick', 'brown', 'fox', 'jumped', 'over', 'the', 'lazy', 'dog', '.']\n",
      "document2: ['the', 'lazy', 'dog', 'slept', 'in', 'the', 'sun', '.']\n"
     ]
    }
   ],
   "source": [
    "# Step 1: Tokenize the documents\n",
    "# Convert each document to lowercase and split it into words\n",
    "tokens1 = word_tokenize(document1.lower())\n",
    "tokens2 = word_tokenize(document2.lower())\n",
    "print(\"document1:\",tokens1)\n",
    "print(\"document2:\",tokens2)"
   ]
  },
  {
   "cell_type": "code",
   "execution_count": 20,
   "id": "c3f0ab66-8360-4560-a1da-41ffe7f72554",
   "metadata": {},
   "outputs": [],
   "source": [
    "# Combine the tokens into a list of unique terms\n",
    "terms = list(set(tokens1 + tokens2))"
   ]
  },
  {
   "cell_type": "code",
   "execution_count": 22,
   "id": "7762259c-0500-4d54-8438-1d0d6094a481",
   "metadata": {},
   "outputs": [],
   "source": [
    "# Step 2: Build the inverted index\n",
    "# Create an empty dictionary to store the inverted index\n",
    "inverted_index = {}\n",
    "# For each term, find the documents that contain it\n",
    "for term in terms:\n",
    "    documents = []\n",
    "    if term in tokens1:\n",
    "        documents.append(\"Document 1\")\n",
    "    if term in tokens2:\n",
    "        documents.append(\"Document 2\")\n",
    "    inverted_index[term] = documents"
   ]
  },
  {
   "cell_type": "code",
   "execution_count": 23,
   "id": "e1daa0c5-c8cf-4126-a889-06d3a4edcee1",
   "metadata": {},
   "outputs": [
    {
     "name": "stdout",
     "output_type": "stream",
     "text": [
      "Inverted Index:\n",
      "in -> Document 2\n",
      "sun -> Document 2\n",
      "over -> Document 1\n",
      "dog -> Document 1, Document 2\n",
      ". -> Document 1, Document 2\n",
      "fox -> Document 1\n",
      "the -> Document 1, Document 2\n",
      "quick -> Document 1\n",
      "slept -> Document 2\n",
      "lazy -> Document 1, Document 2\n",
      "jumped -> Document 1\n",
      "brown -> Document 1\n"
     ]
    }
   ],
   "source": [
    "# Step 3: Print the inverted index\n",
    "print(\"Inverted Index:\")\n",
    "for term, documents in inverted_index.items():\n",
    "    print(term, \"->\", \", \".join(documents))"
   ]
  },
  {
   "cell_type": "code",
   "execution_count": null,
   "id": "cebd7c51-6a56-4c72-930f-8f278391e71c",
   "metadata": {},
   "outputs": [],
   "source": [
    "# Step 4: Search Query\n",
    "query = input(\"\\nEnter your search query: \").lower()  # Get the search query from the user\n",
    "query_terms = query.split()  # Split query into individual terms\n",
    "\n",
    "# Find the documents for the query\n",
    "result_docs = set()  # To store the matching documents\n",
    "\n",
    "# Iterate over the query terms and retrieve documents\n",
    "for term in query_terms:\n",
    "    if term in inverted_index:\n",
    "        result_docs.update(inverted_index[term])  # Add documents that contain the query term"
   ]
  },
  {
   "cell_type": "code",
   "execution_count": 11,
   "id": "739c22ba-2ca3-4b12-aa08-abb06a358c3b",
   "metadata": {},
   "outputs": [
    {
     "name": "stdout",
     "output_type": "stream",
     "text": [
      "\n",
      "Documents matching the query:\n",
      "Document 1\n"
     ]
    }
   ],
   "source": [
    "# Step 5: Display the results\n",
    "if result_docs:\n",
    "    print(\"\\nDocuments matching the query:\")\n",
    "    for doc in result_docs:\n",
    "        print(doc)\n",
    "else:\n",
    "    print(\"\\nNo documents found for the query.\")"
   ]
  },
  {
   "cell_type": "code",
   "execution_count": null,
   "id": "bf64c93e-721f-4dea-91a9-9073e3321951",
   "metadata": {},
   "outputs": [],
   "source": []
  },
  {
   "cell_type": "code",
   "execution_count": null,
   "id": "37bbd075-9ee9-4e90-89b0-7c387a5c35be",
   "metadata": {},
   "outputs": [],
   "source": []
  },
  {
   "cell_type": "code",
   "execution_count": null,
   "id": "fd4b0ac1-a57d-4660-97ae-70df57df1c50",
   "metadata": {},
   "outputs": [],
   "source": []
  },
  {
   "cell_type": "code",
   "execution_count": null,
   "id": "d927b3a7-7056-4bb4-89b0-2168e524814c",
   "metadata": {},
   "outputs": [],
   "source": []
  },
  {
   "cell_type": "code",
   "execution_count": null,
   "id": "ed84ca46-d4cd-453c-a433-bad852384fba",
   "metadata": {},
   "outputs": [],
   "source": []
  },
  {
   "cell_type": "code",
   "execution_count": null,
   "id": "05abafec-8524-490f-93f0-449a80fce6c1",
   "metadata": {},
   "outputs": [],
   "source": []
  },
  {
   "cell_type": "code",
   "execution_count": null,
   "id": "2e75d0ce-a797-4ddb-adac-487032c21514",
   "metadata": {},
   "outputs": [],
   "source": []
  },
  {
   "cell_type": "code",
   "execution_count": null,
   "id": "3fa38f3f-0b43-4dc8-bfba-47428422987a",
   "metadata": {},
   "outputs": [],
   "source": []
  },
  {
   "cell_type": "code",
   "execution_count": null,
   "id": "2dd21322-dd45-4b1f-8499-db6ba06a1780",
   "metadata": {},
   "outputs": [],
   "source": []
  }
 ],
 "metadata": {
  "kernelspec": {
   "display_name": "Python 3 (ipykernel)",
   "language": "python",
   "name": "python3"
  },
  "language_info": {
   "codemirror_mode": {
    "name": "ipython",
    "version": 3
   },
   "file_extension": ".py",
   "mimetype": "text/x-python",
   "name": "python",
   "nbconvert_exporter": "python",
   "pygments_lexer": "ipython3",
   "version": "3.12.3"
  }
 },
 "nbformat": 4,
 "nbformat_minor": 5
}
