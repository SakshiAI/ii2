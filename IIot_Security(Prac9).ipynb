{
  "nbformat": 4,
  "nbformat_minor": 0,
  "metadata": {
    "colab": {
      "provenance": []
    },
    "kernelspec": {
      "name": "python3",
      "display_name": "Python 3"
    },
    "language_info": {
      "name": "python"
    }
  },
  "cells": [
    {
      "cell_type": "code",
      "execution_count": 1,
      "metadata": {
        "id": "YGNStyD5TNgM"
      },
      "outputs": [],
      "source": [
        "from cryptography.fernet import Fernet  # For encryption\n",
        "import numpy as np"
      ]
    },
    {
      "cell_type": "code",
      "source": [
        "key = Fernet.generate_key()\n",
        "cipher = Fernet(key)"
      ],
      "metadata": {
        "id": "JNMgCoAlTQJE"
      },
      "execution_count": 2,
      "outputs": []
    },
    {
      "cell_type": "code",
      "source": [
        "temp = np.random.randint(30,60)\n",
        "print(\"Original Temperature : \", temp)"
      ],
      "metadata": {
        "colab": {
          "base_uri": "https://localhost:8080/"
        },
        "id": "3eHjKstGTSAo",
        "outputId": "c96d6339-37a0-46fb-b9ef-0e0a15eb9d15"
      },
      "execution_count": 3,
      "outputs": [
        {
          "output_type": "stream",
          "name": "stdout",
          "text": [
            "Original Temperature :  37\n"
          ]
        }
      ]
    },
    {
      "cell_type": "code",
      "source": [
        "enc = cipher.encrypt(str(temp).encode())\n",
        "print(\"Encrypted Temperature: \",enc)"
      ],
      "metadata": {
        "colab": {
          "base_uri": "https://localhost:8080/"
        },
        "id": "76VgY_rxTTaq",
        "outputId": "44f96e12-e697-49f5-ef72-419e0ec38c7d"
      },
      "execution_count": 4,
      "outputs": [
        {
          "output_type": "stream",
          "name": "stdout",
          "text": [
            "Encrypted Temperature:  b'gAAAAABnK9p4ycav9Z3EqXr7uSOV1Ifi4rAuf1mO42q87w3P5W_2vvs9pMZI8ywk6zimuD8Im0a37pCrwYcrr55vC00cI82PXw=='\n"
          ]
        }
      ]
    },
    {
      "cell_type": "code",
      "source": [
        "dec = cipher.decrypt(enc).decode()\n",
        "print(\"Decrypted Temperature: \",dec)"
      ],
      "metadata": {
        "colab": {
          "base_uri": "https://localhost:8080/"
        },
        "id": "oqVs2jHyTWWm",
        "outputId": "7c8eeb4c-cc22-4706-db39-acbe97b92874"
      },
      "execution_count": 5,
      "outputs": [
        {
          "output_type": "stream",
          "name": "stdout",
          "text": [
            "Decrypted Temperature:  37\n"
          ]
        }
      ]
    },
    {
      "cell_type": "code",
      "source": [
        "original_hash = hash(str(temp))\n",
        "decrypted_hash = hash(dec)\n",
        "\n",
        "if original_hash == decrypted_hash:\n",
        "    print(\"Data Integrity is verified\")\n",
        "else:\n",
        "    print(\"Data Integrity is not verified\")"
      ],
      "metadata": {
        "colab": {
          "base_uri": "https://localhost:8080/"
        },
        "id": "DStfDaO9TYiv",
        "outputId": "6a30b13a-4e32-4adc-8818-53aa3e38f555"
      },
      "execution_count": 6,
      "outputs": [
        {
          "output_type": "stream",
          "name": "stdout",
          "text": [
            "Data Integrity is verified\n"
          ]
        }
      ]
    },
    {
      "cell_type": "code",
      "source": [],
      "metadata": {
        "id": "NnkDc0BsTbWj"
      },
      "execution_count": null,
      "outputs": []
    }
  ]
}