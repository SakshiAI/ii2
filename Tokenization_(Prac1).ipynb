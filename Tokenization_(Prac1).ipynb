{
  "cells": [
    {
      "cell_type": "code",
      "execution_count": 1,
      "id": "fe62ac32",
      "metadata": {
        "colab": {
          "base_uri": "https://localhost:8080/"
        },
        "id": "fe62ac32",
        "outputId": "e2434768-f51d-4e49-ebc1-5880c2a2f29e"
      },
      "outputs": [
        {
          "output_type": "stream",
          "name": "stdout",
          "text": [
            "Requirement already satisfied: nltk in /usr/local/lib/python3.10/dist-packages (3.8.1)\n",
            "Requirement already satisfied: click in /usr/local/lib/python3.10/dist-packages (from nltk) (8.1.7)\n",
            "Requirement already satisfied: joblib in /usr/local/lib/python3.10/dist-packages (from nltk) (1.4.2)\n",
            "Requirement already satisfied: regex>=2021.8.3 in /usr/local/lib/python3.10/dist-packages (from nltk) (2024.9.11)\n",
            "Requirement already satisfied: tqdm in /usr/local/lib/python3.10/dist-packages (from nltk) (4.66.6)\n"
          ]
        }
      ],
      "source": [
        "!pip install nltk\n",
        "import nltk\n",
        "from nltk.corpus import stopwords\n",
        "from nltk.tokenize import word_tokenize\n",
        "from nltk.stem import PorterStemmer\n",
        "from nltk.stem import WordNetLemmatizer"
      ]
    },
    {
      "cell_type": "code",
      "execution_count": 2,
      "id": "af647d8c",
      "metadata": {
        "colab": {
          "base_uri": "https://localhost:8080/"
        },
        "id": "af647d8c",
        "outputId": "861c19fe-df7a-4bd6-b903-fb9badbae08d"
      },
      "outputs": [
        {
          "output_type": "stream",
          "name": "stderr",
          "text": [
            "[nltk_data] Downloading package punkt to /root/nltk_data...\n",
            "[nltk_data]   Unzipping tokenizers/punkt.zip.\n",
            "[nltk_data] Downloading package stopwords to /root/nltk_data...\n",
            "[nltk_data]   Unzipping corpora/stopwords.zip.\n",
            "[nltk_data] Downloading package wordnet to /root/nltk_data...\n"
          ]
        },
        {
          "output_type": "execute_result",
          "data": {
            "text/plain": [
              "True"
            ]
          },
          "metadata": {},
          "execution_count": 2
        }
      ],
      "source": [
        "# Download required NLTK data (you only need to do this once)\n",
        "nltk.download('punkt')\n",
        "nltk.download('stopwords')\n",
        "nltk.download('wordnet')"
      ]
    },
    {
      "cell_type": "code",
      "execution_count": 32,
      "id": "488fd6dc",
      "metadata": {
        "id": "488fd6dc"
      },
      "outputs": [],
      "source": [
        "# Simple text preprocessing function\n",
        "def preprocess(text):\n",
        "    # Tokenize text (split into words)\n",
        "    tokens = word_tokenize(text)\n",
        "\n",
        "    # Convert text to lowercase\n",
        "    lower_case = word_tokenize(text.lower())\n",
        "    tokens = word_tokenize(text.lower())\n",
        "\n",
        "    # Remove stop words\n",
        "    stopworder = set(stopwords.words('english'))\n",
        "    stop_words = [word for word in tokens if word.isalnum() and word not in stopworder]\n",
        "    tokens = [word for word in tokens if word.isalnum() and word not in stopworder]\n",
        "\n",
        "    # Stemming\n",
        "    stemmer = PorterStemmer()\n",
        "    stemmed_words = [stemmer.stem(word) for word in tokens]\n",
        "    tokens = [stemmer.stem(word) for word in tokens]\n",
        "\n",
        "    # Lemmatization\n",
        "    lemmatizer = WordNetLemmatizer()\n",
        "    lemmatized_words = [lemmatizer.lemmatize(word) for word in tokens]\n",
        "    tokens = [lemmatizer.lemmatize(word) for word in tokens]\n",
        "\n",
        "    processed_text = ' '.join(tokens)\n",
        "\n",
        "    return lower_case, stop_words, stemmed_words, lemmatized_words, processed_text\n"
      ]
    },
    {
      "cell_type": "code",
      "execution_count": 33,
      "id": "100b0de8",
      "metadata": {
        "id": "100b0de8"
      },
      "outputs": [],
      "source": [
        "# Example text\n",
        "text = \"This is a simple example for text preprocessing, with stop word removal and stemming!\"\n"
      ]
    },
    {
      "cell_type": "code",
      "execution_count": 34,
      "id": "2ff414f5",
      "metadata": {
        "id": "2ff414f5"
      },
      "outputs": [],
      "source": [
        "lowercase,stopword, stemmed, lemmatized, processed_text = preprocess(text)"
      ]
    },
    {
      "cell_type": "code",
      "execution_count": 35,
      "id": "5648523e",
      "metadata": {
        "colab": {
          "base_uri": "https://localhost:8080/"
        },
        "id": "5648523e",
        "outputId": "806d6a16-0569-42d7-eb68-0ec9586c2ce8"
      },
      "outputs": [
        {
          "output_type": "stream",
          "name": "stdout",
          "text": [
            "Original Text:    This is a simple example for text preprocessing, with stop word removal and stemming!\n",
            "Lower Case:       ['this', 'is', 'a', 'simple', 'example', 'for', 'text', 'preprocessing', ',', 'with', 'stop', 'word', 'removal', 'and', 'stemming', '!']\n",
            "Stop Words:       ['simple', 'example', 'text', 'preprocessing', 'stop', 'word', 'removal', 'stemming']\n",
            "Stemmed Text:     ['simpl', 'exampl', 'text', 'preprocess', 'stop', 'word', 'remov', 'stem']\n",
            "Lemmatized Text:  ['simpl', 'exampl', 'text', 'preprocess', 'stop', 'word', 'remov', 'stem']\n",
            "Processed Text:   simpl exampl text preprocess stop word remov stem\n"
          ]
        }
      ],
      "source": [
        "# Display results\n",
        "print(\"Original Text:   \", text)\n",
        "print(\"Lower Case:      \", lowercase)\n",
        "print(\"Stop Words:      \", stopword)\n",
        "print(\"Stemmed Text:    \", stemmed)\n",
        "print(\"Lemmatized Text: \", lemmatized)\n",
        "print(\"Processed Text:  \", processed_text)"
      ]
    },
    {
      "cell_type": "code",
      "execution_count": 35,
      "id": "81fe2eee",
      "metadata": {
        "id": "81fe2eee"
      },
      "outputs": [],
      "source": []
    },
    {
      "cell_type": "code",
      "execution_count": 6,
      "id": "de516bbd",
      "metadata": {
        "id": "de516bbd"
      },
      "outputs": [],
      "source": []
    }
  ],
  "metadata": {
    "kernelspec": {
      "display_name": "GG_2472",
      "language": "python",
      "name": "gg_2472"
    },
    "language_info": {
      "codemirror_mode": {
        "name": "ipython",
        "version": 3
      },
      "file_extension": ".py",
      "mimetype": "text/x-python",
      "name": "python",
      "nbconvert_exporter": "python",
      "pygments_lexer": "ipython3",
      "version": "3.9.18"
    },
    "colab": {
      "provenance": []
    }
  },
  "nbformat": 4,
  "nbformat_minor": 5
}