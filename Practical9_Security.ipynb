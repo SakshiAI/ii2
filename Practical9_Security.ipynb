{
  "nbformat": 4,
  "nbformat_minor": 0,
  "metadata": {
    "colab": {
      "provenance": []
    },
    "kernelspec": {
      "name": "python3",
      "display_name": "Python 3"
    },
    "language_info": {
      "name": "python"
    }
  },
  "cells": [
    {
      "cell_type": "code",
      "execution_count": 1,
      "metadata": {
        "id": "gAyzNbDIRi4-"
      },
      "outputs": [],
      "source": [
        "# Import necessary libraries\n",
        "import hashlib  # For hashing to ensure data integrity\n",
        "from cryptography.fernet import Fernet  # For encryption\n",
        "import random  # For simulating sensor data"
      ]
    },
    {
      "cell_type": "code",
      "source": [
        "# Generate an encryption key\n",
        "key = Fernet.generate_key()\n",
        "cipher = Fernet(key)"
      ],
      "metadata": {
        "id": "BxBr2b34RmdB"
      },
      "execution_count": 2,
      "outputs": []
    },
    {
      "cell_type": "code",
      "source": [
        "def get_sensor_data():\n",
        "    return random.uniform(50, 100)  # Random temperature between 50°C and 100°C\n",
        "\n",
        "# Encrypt the sensor data\n",
        "def encrypt_data(data, cipher):\n",
        "    return cipher.encrypt(data.encode())\n",
        "\n",
        "# Decrypt the sensor data\n",
        "def decrypt_data(encrypted_data, cipher):\n",
        "    return cipher.decrypt(encrypted_data).decode()\n",
        "\n",
        "# Verify data integrity using hashing\n",
        "def verify_data_integrity(data):\n",
        "    return hashlib.sha256(data.encode()).hexdigest()"
      ],
      "metadata": {
        "id": "TxsLAPuoRphT"
      },
      "execution_count": 3,
      "outputs": []
    },
    {
      "cell_type": "code",
      "source": [
        "sensor_data = f\"Temperature: {get_sensor_data():.2f}°C\"\n",
        "print(\"Original Data:\", sensor_data)\n",
        "\n",
        "# Encrypt and then decrypt the data\n",
        "encrypted_data = encrypt_data(sensor_data, cipher)\n",
        "print(\"Encrypted Data:\", encrypted_data)\n",
        "\n",
        "decrypted_data = decrypt_data(encrypted_data, cipher)\n",
        "print(\"Decrypted Data:\", decrypted_data)"
      ],
      "metadata": {
        "colab": {
          "base_uri": "https://localhost:8080/"
        },
        "id": "W0nxRKZ3Rspf",
        "outputId": "85cc6dc8-9e16-48e2-976b-4ccdf56014d2"
      },
      "execution_count": 4,
      "outputs": [
        {
          "output_type": "stream",
          "name": "stdout",
          "text": [
            "Original Data: Temperature: 74.02°C\n",
            "Encrypted Data: b'gAAAAABnK9jQfmR5z5x0GMxfb6npfIVcvUuV9CTpyuj5PpaOfyrefphSgmlNvdn1biHnHBHAuDLUZ3IeEN3PSdTj9F8wyYoRTWO4xCAtBAnNa-wcEf612Hw='\n",
            "Decrypted Data: Temperature: 74.02°C\n"
          ]
        }
      ]
    },
    {
      "cell_type": "code",
      "source": [
        "original_hash = verify_data_integrity(sensor_data)\n",
        "decrypted_hash = verify_data_integrity(decrypted_data)\n",
        "if original_hash == decrypted_hash:\n",
        "    print(\"Data Integrity Verified: Hashes match.\")\n",
        "else:\n",
        "    print(\"Data Integrity Issue: Hashes do not match.\")"
      ],
      "metadata": {
        "colab": {
          "base_uri": "https://localhost:8080/"
        },
        "id": "uORj99hbRu89",
        "outputId": "df068c45-052c-48f6-ebfa-4e55e581990b"
      },
      "execution_count": 5,
      "outputs": [
        {
          "output_type": "stream",
          "name": "stdout",
          "text": [
            "Data Integrity Verified: Hashes match.\n"
          ]
        }
      ]
    },
    {
      "cell_type": "code",
      "source": [],
      "metadata": {
        "id": "s-upQGr7Rxek"
      },
      "execution_count": null,
      "outputs": []
    }
  ]
}