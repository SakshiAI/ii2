{
 "cells": [
  {
   "cell_type": "code",
   "execution_count": 1,
   "metadata": {},
   "outputs": [
    {
     "name": "stdout",
     "output_type": "stream",
     "text": [
      "PageRank values: [0.32456132 0.17543868 0.32456132 0.17543868]\n"
     ]
    }
   ],
   "source": [
    "import numpy as np\n",
    "\n",
    "# Define the damping factor and the number of pages\n",
    "d = 0.85  # damping factor\n",
    "N = 4  # number of pages\n",
    "\n",
    "# Adjacency matrix for the graph (webpages and links between them)\n",
    "# Here, a 1 represents a link from page i to page j\n",
    "adj_matrix = np.array([[0, 1, 1, 0],  # A -> B, C\n",
    "                       [1, 0, 0, 0],  # B -> A\n",
    "                       [1, 0, 0, 1],  # C -> A, D\n",
    "                       [0, 0, 1, 0]]) # D -> C\n",
    "\n",
    "# Function to calculate PageRank\n",
    "def page_rank(adj_matrix, d=0.85, max_iter=100, tol=1e-6):\n",
    "    N = adj_matrix.shape[0]\n",
    "    \n",
    "    # Initialize PageRank values uniformly\n",
    "    PR = np.ones(N) / N  # Initial PageRank values (uniform distribution)\n",
    "    \n",
    "    # Create the transition matrix from the adjacency matrix\n",
    "    # Each column of the matrix is divided by the sum of the column\n",
    "    # to normalize the values (probability distribution)\n",
    "    transition_matrix = adj_matrix / adj_matrix.sum(axis=0, keepdims=True)\n",
    "    \n",
    "    # Iterate to update the PageRank values\n",
    "    for i in range(max_iter):\n",
    "        new_PR = (1 - d) / N + d * np.dot(transition_matrix, PR)\n",
    "        \n",
    "        # Check for convergence (if the difference is small, stop iterating)\n",
    "        if np.linalg.norm(new_PR - PR, 1) < tol:\n",
    "            break\n",
    "        PR = new_PR\n",
    "        \n",
    "    return PR\n",
    "\n",
    "# Calculate the PageRank\n",
    "PR_values = page_rank(adj_matrix, d)\n",
    "print(\"PageRank values:\", PR_values)\n"
   ]
  },
  {
   "cell_type": "code",
   "execution_count": 2,
   "metadata": {},
   "outputs": [
    {
     "data": {
      "text/plain": [
       "'Result\\nThe final PageRank vector (e.g., [0.327, 0.166, 0.327, 0.180]) indicates the relative importance of each page. The higher the value, the more important the page is in the network.'"
      ]
     },
     "execution_count": 2,
     "metadata": {},
     "output_type": "execute_result"
    }
   ],
   "source": [
    "'''Result\n",
    "The final PageRank vector (e.g., [0.327, 0.166, 0.327, 0.180]) indicates the relative importance of each page. The higher the value, the more important the page is in the network.'''"
   ]
  },
  {
   "cell_type": "code",
   "execution_count": null,
   "metadata": {},
   "outputs": [],
   "source": []
  }
 ],
 "metadata": {
  "kernelspec": {
   "display_name": "GG_2472",
   "language": "python",
   "name": "gg_2472"
  },
  "language_info": {
   "codemirror_mode": {
    "name": "ipython",
    "version": 3
   },
   "file_extension": ".py",
   "mimetype": "text/x-python",
   "name": "python",
   "nbconvert_exporter": "python",
   "pygments_lexer": "ipython3",
   "version": "3.9.18"
  }
 },
 "nbformat": 4,
 "nbformat_minor": 2
}
